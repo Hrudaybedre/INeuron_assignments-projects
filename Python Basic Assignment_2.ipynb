{
 "cells": [
  {
   "cell_type": "code",
   "execution_count": null,
   "metadata": {},
   "outputs": [],
   "source": [
    "\"\"\"1.What are the two values of the Boolean data type? How do you write them?\"\"\"\n",
    "\n",
    "# Asnwer\n",
    "\n",
    "# The two values Boolean data types are true (1) and false (0) and we can write them as True and False Respectively in a program."
   ]
  },
  {
   "cell_type": "code",
   "execution_count": null,
   "metadata": {},
   "outputs": [],
   "source": [
    "\"\"\"2. What are the three different types of Boolean operators?\"\"\"\n",
    "\n",
    "# Answer\n",
    "\n",
    "# The three different types of Boolean operators are and , or and not."
   ]
  },
  {
   "cell_type": "code",
   "execution_count": null,
   "metadata": {},
   "outputs": [],
   "source": [
    "\"\"\"3. Make a list of each Boolean operator's truth tables (i.e. every possible combination of Boolean \n",
    "values for the operator and what it evaluate ).\"\"\"\n",
    "\n",
    "# Answer\n",
    "\n",
    " # and\n",
    "\n",
    "    # True and True -> True\n",
    "    # True and False -> False\n",
    "    # False and True -> False\n",
    "    # False and False -> False\n",
    "\n",
    " # or\n",
    " \n",
    "    # True and True -> True\n",
    "    # True and False -> True\n",
    "    # False and True -> True\n",
    "    # False and False -> False   \n",
    "    \n",
    "  # not\n",
    " \n",
    "    # True -> False\n",
    "    # False -> True"
   ]
  },
  {
   "cell_type": "code",
   "execution_count": null,
   "metadata": {},
   "outputs": [],
   "source": [
    "\"\"\"4. What are the values of the following expressions?\n",
    "(5 > 4) and (3 == 5)\n",
    "not (5 > 4)\n",
    "(5 > 4) or (3 == 5)\n",
    "not ((5 > 4) or (3 == 5))\n",
    "(True and True) and (True == False)\n",
    "(not False) or (not True)\"\"\"\n",
    "\n",
    "# Answer\n",
    "\n",
    "# (5 > 4) and (3 == 5)  Output Value -> False\n",
    "# not (5 > 4)  Output Value -> False\n",
    "# (5 > 4) or (3 == 5)  Output Value -> True\n",
    "# not ((5 > 4) or (3 == 5)) Output Value -> False\n",
    "# (True and True) and (True == False)  Output Value -> False\n",
    "# (not False) or (not True)  Output Value -> True"
   ]
  },
  {
   "cell_type": "code",
   "execution_count": null,
   "metadata": {},
   "outputs": [],
   "source": [
    "\"\"\"5. What are the six comparison operators?\"\"\"\n",
    "\n",
    "# Answer\n",
    "\n",
    "# the six comperasion operators are as follows,\n",
    "# == -> Equals to.\n",
    "# != -> Not Equals to.\n",
    "# >  -> Greater than.\n",
    "# >= -> Greater than or Equals to.\n",
    "# <  -> Less than.\n",
    "# <= -> Less than or Equals to."
   ]
  },
  {
   "cell_type": "code",
   "execution_count": null,
   "metadata": {},
   "outputs": [],
   "source": [
    "\"\"\"6. How do you tell the difference between the equal to and assignment operators?\n",
    "Describe a condition and when you would use one.\"\"\"\n",
    "\n",
    "# Answer\n",
    "\n",
    "# The difference between the equal to and assegnment operator can be noticed as the equal to operation is representated by using two equal signs.\n",
    "# Example: 5 == 5 with check for the validaty and return a Boolean data type - True or False\n",
    "# and the assegnment operator is represented by using a single equal sign.\n",
    "# Example: val = 5 which stores the value 5 in the variable val."
   ]
  },
  {
   "cell_type": "code",
   "execution_count": null,
   "metadata": {},
   "outputs": [],
   "source": [
    "\"\"\"7. Identify the three blocks in this code:\n",
    "spam = 0\n",
    "if spam == 10:\n",
    "print('eggs')\n",
    "if spam > 5:\n",
    "print('bacon')\n",
    "else:\n",
    "print(\"ham')\n",
    "print('spam')\n",
    "print('spam') \"\"\"\n",
    "\n",
    "# Answer\n",
    "\n",
    "# There three blocks are as follows.\n",
    "#1 \n",
    "\"\"\"\n",
    "if spam == 10:\n",
    "print('eggs')\n",
    "\"\"\"\n",
    "#2\n",
    "\"\"\"\n",
    "if spam > 5:\n",
    "print('bacon')\n",
    "\"\"\"\n",
    "#3\n",
    "\"\"\"\n",
    "else:\n",
    "print(\"ham')\n",
    "print('spam')\n",
    "print('spam')\n",
    "\"\"\""
   ]
  },
  {
   "cell_type": "code",
   "execution_count": null,
   "metadata": {},
   "outputs": [],
   "source": [
    "\"\"\"8. Write code that prints Hello if 1 is stored in spam, prints Howdy if 2 is stored in spam, and prints\n",
    "Greetings! if anything else is stored in spam.\"\"\"\n",
    "\n",
    "# Answer\n",
    "\n",
    "spam = int(input())\n",
    "\n",
    "if spam == 1:\n",
    "    print(\"Hello\")\n",
    "elif spam == 2:\n",
    "    print(\"Howdy\")\n",
    "else:\n",
    "    print(\"Greetings!\")"
   ]
  },
  {
   "cell_type": "code",
   "execution_count": null,
   "metadata": {},
   "outputs": [],
   "source": [
    "\"\"\"9.If your programme is stuck in an endless loop, what keys you'll press?\"\"\"\n",
    "\n",
    "# Answer\n",
    "\n",
    "# we can press the keys ctrl+c togather to stop the sndless loop."
   ]
  },
  {
   "cell_type": "code",
   "execution_count": null,
   "metadata": {},
   "outputs": [],
   "source": [
    "\"\"\"10. How can you tell the difference between break and continue?\"\"\"\n",
    "\n",
    "# Answer\n",
    "\n",
    "# We can tell the difference between break and continue when the programm ends when a condition is not meet in-between the programe and dosenot complete the excution it has undergone break.\n",
    "# and when the entire program is excuated even after the contion in-between the code the it has undergone continue."
   ]
  },
  {
   "cell_type": "code",
   "execution_count": null,
   "metadata": {},
   "outputs": [],
   "source": [
    "\"\"\"11. In a for loop, what is the difference between range(10), range(0, 10), and range(0, 10, 1)?\"\"\"\n",
    "\n",
    "# Answer\n",
    "\n",
    "# the function range() which helps to loops a set of code to a specified numeber of times\n",
    "# range(a, b, c) - where a is the start of the index usualy 0 if not specified.\n",
    "# b is the the highter specified limit\n",
    "# c is the size of increments in the value with is 1 by defalt\n",
    "\n",
    "# in range(10) its specifies the max number of iterations in loop by defalt is from 0 to 9 in increments of 1 which brings up to 10 times.\n",
    "# in range(0, 10) its the same as above which is just speciifing the start of the indexing.\n",
    "# range(0, 10, 1) its the asem as the first explanation with is specifiing the start index and also the increments."
   ]
  },
  {
   "cell_type": "code",
   "execution_count": null,
   "metadata": {},
   "outputs": [],
   "source": [
    "\"\"\"12. Write a short program that prints the numbers 1 to 10 using a for loop. Then write an equivalent\n",
    "program that prints the numbers 1 to 10 using a while loop.\"\"\"\n",
    "\n",
    "# Answer\n",
    "\n",
    "# printing number 1 to 10 in for loop\n",
    "x = 0\n",
    "for i in range(0,10,1):\n",
    "    x = x+  1\n",
    "    print(x)\n",
    "\n",
    "# printing numbers 1 to 10 in While loop\n",
    "y = 0\n",
    "j = 0    \n",
    "while j < 10:\n",
    "    y = y + 1\n",
    "    print(y)\n",
    "    j = j + 1"
   ]
  },
  {
   "cell_type": "code",
   "execution_count": null,
   "metadata": {},
   "outputs": [],
   "source": [
    "\"\"\"13. If you had a function named bacon() inside a module named spam, how would you call it after\n",
    "importing spam?\"\"\"\n",
    "\n",
    "# Answer\n",
    "\n",
    "# importing the module spam\n",
    "import spam\n",
    "\n",
    "# calling the function\n",
    "bacon()"
   ]
  }
 ],
 "metadata": {
  "kernelspec": {
   "display_name": "Python 3.10.4 64-bit",
   "language": "python",
   "name": "python3"
  },
  "language_info": {
   "codemirror_mode": {
    "name": "ipython",
    "version": 3
   },
   "file_extension": ".py",
   "mimetype": "text/x-python",
   "name": "python",
   "nbconvert_exporter": "python",
   "pygments_lexer": "ipython3",
   "version": "3.10.4"
  },
  "orig_nbformat": 4,
  "vscode": {
   "interpreter": {
    "hash": "839b68e483e55cfab3fdb3add79398a9c925882968aa78ec60a24f4ec2e0da45"
   }
  }
 },
 "nbformat": 4,
 "nbformat_minor": 2
}

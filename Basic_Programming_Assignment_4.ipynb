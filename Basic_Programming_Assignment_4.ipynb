{
 "cells": [
  {
   "cell_type": "code",
   "execution_count": 21,
   "metadata": {},
   "outputs": [
    {
     "name": "stdout",
     "output_type": "stream",
     "text": [
      "24\n"
     ]
    }
   ],
   "source": [
    "\"\"\"1. Write a Python Program to Find the Factorial of a Number?\"\"\"\n",
    "\n",
    "# Solution\n",
    "\n",
    "#Factorial of a whole number 'n' is defined as the product of that number with every whole number less than or equal to 'n' till 1.\n",
    "\n",
    "a = int(input(\"Enter a number to find its factoral \")) # taking input of a int value.\n",
    "\n",
    "# program for calculation the factorial of the number\n",
    "if (a == 0) and (a == 1):\n",
    "    print (f\"the factoral of {a} is 1\")\n",
    "else:\n",
    "    x = 1\n",
    "    while (a > 1):\n",
    "        x *= a\n",
    "        a -= 1\n",
    "print(x)"
   ]
  },
  {
   "cell_type": "code",
   "execution_count": 25,
   "metadata": {},
   "outputs": [
    {
     "name": "stdout",
     "output_type": "stream",
     "text": [
      "2 × 1 = 2\n",
      "2 × 2 = 4\n",
      "2 × 3 = 6\n",
      "2 × 4 = 8\n",
      "2 × 5 = 10\n"
     ]
    }
   ],
   "source": [
    "\"\"\"2. Write a Python Program to Display the multiplication Table?\"\"\"\n",
    "\n",
    "# Solution\n",
    "\n",
    "b = int(input(\"Enter the number for which multiplication table to be displayed \")) # taking input of a int value.\n",
    "\n",
    "c = int(input(\"Enter the number of multiples required in the table \"))\n",
    "\n",
    "# itrating from value c\n",
    "\n",
    "for c in range(1, c+1):\n",
    "    print(f\"{b} × {c} = {b*c}\")\n",
    "\n"
   ]
  },
  {
   "cell_type": "code",
   "execution_count": 74,
   "metadata": {},
   "outputs": [
    {
     "name": "stdout",
     "output_type": "stream",
     "text": [
      "The fibonacci sequence for the number 21 is [0, 1, 1, 2, 3, 5, 8, 13, 21, 34, 55, 89, 144, 233, 377, 610, 987, 1597, 2584, 4181, 6765, 10946]\n"
     ]
    }
   ],
   "source": [
    "\"\"\"3. Write a Python Program to Print the Fibonacci sequence?\"\"\"\n",
    "\n",
    "# Solution\n",
    "\n",
    "d = int(input(\"Enter the number for series to br displayed in the Fibonacci sequence \")) # taking input of a int value.\n",
    "l1 = [0]\n",
    "#l2 = [0, 1]\n",
    "#l3 = [0, 1, 1]\n",
    "#l4 = [0, 1, 1]\n",
    "if d == 0:\n",
    "    print(l1)\n",
    "elif d == 1 or d == 2:\n",
    "    for d in range(1, d+1):\n",
    "        l1.append(1)\n",
    "    print(l1)\n",
    "else:\n",
    "    l1.extend((1, 1))\n",
    "    x = 0\n",
    "    for d in range(3, d+1):\n",
    "        x = l1[d-1]+l1[d-2]\n",
    "        l1.append(x)\n",
    "print(f\"The fibonacci sequence for the number {d} is {l1}\")"
   ]
  },
  {
   "cell_type": "code",
   "execution_count": 47,
   "metadata": {},
   "outputs": [
    {
     "name": "stdout",
     "output_type": "stream",
     "text": [
      "9474 is an armstrong number\n"
     ]
    }
   ],
   "source": [
    "\"\"\"4. Write a Python Program to Check Armstrong Number?\"\"\"\n",
    "\n",
    "# Solution\n",
    "\n",
    "# An Armstrong number is one whose sum of digits raised to the power of number of digits equals the number itself\n",
    "e = str(input(\"Enter the number to check if it is an armstrong number \")) # taking input of a string value.\n",
    "\n",
    "# converting the string values into int for checking for armstrong number condution\n",
    "x = 0\n",
    "y = 0\n",
    "for i in range(0, len(e)):\n",
    "    y = pow(int(e[i]),len(e) ) # finding powers for each digit\n",
    "    x = x + y  # getting the sum of the input integer\n",
    "if x == int(e):\n",
    "    print(e ,\"is an armstrong number\")\n",
    "else:\n",
    "    print(e ,\"is not an armstrong number\")\n"
   ]
  },
  {
   "cell_type": "code",
   "execution_count": 45,
   "metadata": {},
   "outputs": [
    {
     "name": "stdout",
     "output_type": "stream",
     "text": [
      "[0, 1, 2, 3, 4, 5, 6, 7, 8, 9, 153, 370, 371, 407, 1634, 8208, 9474, 54748, 92727, 93084, 548834]\n"
     ]
    }
   ],
   "source": [
    "\"\"\"5. Write a Python Program to Find Armstrong Number in an Interval?\"\"\"\n",
    "\n",
    "# Solution\n",
    "\n",
    "f = int(input(\"Enter the start of the interval to find armstrong number in the range \"))\n",
    "\n",
    "g = int(input(\"Enter the end of the interval to find armstrong number in the range \"))\n",
    "\n",
    "l2 = []\n",
    "for j in range(f,g+1):\n",
    "    # converting the string values into int for checking for armstrong number condution\n",
    "    x = 0\n",
    "    y = 0\n",
    "    e = str(j)\n",
    "    \n",
    "    for i in range(0, len(e)):\n",
    "        y = pow(int(e[i]),len(e) ) # finding powers for each digit\n",
    "        x = x + y  # getting the sum of the input integer\n",
    "        \n",
    "    if x == j:\n",
    "        l2.append(x)\n",
    "print(l2)"
   ]
  },
  {
   "cell_type": "code",
   "execution_count": 51,
   "metadata": {},
   "outputs": [
    {
     "name": "stdout",
     "output_type": "stream",
     "text": [
      "The sum of natural numper for the given number 3 is 6\n"
     ]
    }
   ],
   "source": [
    "\"\"\"6. Write a Python Program to Find the Sum of Natural Numbers?\"\"\"\n",
    "\n",
    "# Solution\n",
    "\n",
    "# Sum of natural numbers is given by Sn = n(n+1)/2\n",
    "\n",
    "h = int(input(\"Enter the number to find its sum of natural numbers \")) # taking input of a int value.\n",
    "\n",
    "print(f\"The sum of natural numper for the given number {h} is {int(h*(h+1)/2)}\")"
   ]
  }
 ],
 "metadata": {
  "kernelspec": {
   "display_name": "Python 3.10.4 64-bit",
   "language": "python",
   "name": "python3"
  },
  "language_info": {
   "codemirror_mode": {
    "name": "ipython",
    "version": 3
   },
   "file_extension": ".py",
   "mimetype": "text/x-python",
   "name": "python",
   "nbconvert_exporter": "python",
   "pygments_lexer": "ipython3",
   "version": "3.10.4"
  },
  "orig_nbformat": 4,
  "vscode": {
   "interpreter": {
    "hash": "839b68e483e55cfab3fdb3add79398a9c925882968aa78ec60a24f4ec2e0da45"
   }
  }
 },
 "nbformat": 4,
 "nbformat_minor": 2
}

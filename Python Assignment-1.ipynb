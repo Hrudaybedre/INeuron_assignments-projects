{
 "cells": [
  {
   "cell_type": "code",
   "execution_count": null,
   "metadata": {},
   "outputs": [],
   "source": [
    "\"\"\"1. In the below elements which of them are values or an expression? eg:- values can be integer or string and expressions will be mathematical operators.\n",
    "*\n",
    "'hello' \n",
    "-87.8\n",
    "-\n",
    "/\n",
    "+\n",
    "6\"\"\"\n",
    "\n",
    "# Answers\n",
    "\n",
    "# * (expression)\n",
    "# 'hello' (Value)\n",
    "# -87.8 (Value)\n",
    "# - (expression)\n",
    "# / (expression)\n",
    "# + (expression)\n",
    "# 6 (Value)"
   ]
  },
  {
   "cell_type": "code",
   "execution_count": null,
   "metadata": {},
   "outputs": [],
   "source": [
    "\"\"\"2. What is the difference between string and variable?\"\"\"\n",
    "\n",
    "# Answer\n",
    "\n",
    "# String is a Alphanumerical Characters and Symbols with in Single or Double Quotes\n",
    "# Example:\n",
    " \"Me\"\n",
    " 'The Number was 6'\n",
    " \" 3 + 2 = 5\"\n",
    "\n",
    "# Variables ar Characters or Group of Characters starting with Alphabet which can store or a valu can be assigned to it.\n",
    "# Example:\n",
    "Variable = 5\n",
    "V908 = \"me\""
   ]
  },
  {
   "cell_type": "code",
   "execution_count": null,
   "metadata": {},
   "outputs": [],
   "source": [
    "\"\"\"3. Describe three different data types.\"\"\"\n",
    "\n",
    "# Answer\n",
    "\n",
    "# int - Int is a data type which represents ingider in whole numbers\n",
    "# list - is a data type wich can store multiple items in a single variable\n",
    "# Str - Str (string) is a data type which can store alpha numerical values when represented in \" \" or ' '"
   ]
  },
  {
   "cell_type": "code",
   "execution_count": null,
   "metadata": {},
   "outputs": [],
   "source": [
    "\"\"\"4. What is an expression made up of? What do all expressions do?\"\"\"\n",
    "\n",
    "# Answer\n",
    "\n",
    "# Expressions are made up of operations, variables & constants.\n",
    "# Expressions gives out (output) an value which is the resultant of the combinitation of variables, operations and constants."
   ]
  },
  {
   "cell_type": "code",
   "execution_count": null,
   "metadata": {},
   "outputs": [],
   "source": [
    "\"\"\"5. This assignment statements, like spam = 10. What is the difference between an expression and a statement?\"\"\"\n",
    "\n",
    "# Answer\n",
    "\n",
    "# Assignment statement - like spam = 10 represents assignment of the value 10 to the variable spam.\n",
    "# Where as the expression is a mathematical and conditional statement with involves a combination of operators, variables and constants and returns the value withis is obtained by solving the expression."
   ]
  },
  {
   "cell_type": "code",
   "execution_count": null,
   "metadata": {},
   "outputs": [],
   "source": [
    "\"\"\"6. After running the following code, what does the variable bacon contain?\n",
    "    bacon = 22\n",
    "    bacon + 1 \"\"\"\n",
    "\n",
    "# Answer\n",
    "\n",
    "# 22"
   ]
  },
  {
   "cell_type": "code",
   "execution_count": null,
   "metadata": {},
   "outputs": [],
   "source": [
    "\"\"\"7. What should the values of the following two terms be?\n",
    "'spam' + 'spamspam'\n",
    "'spam' * 3 \"\"\"\n",
    "\n",
    "# Answer\n",
    "\n",
    "# 'spam' + 'spamspam' -> spamspamspam\n",
    "# 'spam' * 3 -> spamspamspam"
   ]
  },
  {
   "cell_type": "code",
   "execution_count": null,
   "metadata": {},
   "outputs": [],
   "source": [
    "\"\"\"8. Why is eggs a valid variable name while 100 is invalid?\"\"\"\n",
    "\n",
    "# Answer\n",
    "\n",
    "# The Python Programming launguage has some rules for variables the variables cannot start with a number and thus\n",
    "# eggs is a valid variable name and 100 is invalid variable.\n",
    "# but egg1 , egg2 are valid variables."
   ]
  },
  {
   "cell_type": "code",
   "execution_count": null,
   "metadata": {},
   "outputs": [],
   "source": [
    "\"\"\"9. What three functions can be used to get the integer, floating-point number, or string version of a value?\"\"\"\n",
    "\n",
    "# Answer\n",
    "\n",
    "# the int() function can be used for getting the integer value.\n",
    "# the float() function can be used for getting the floating-point number value.\n",
    "# the str() function can be used for getting the string value."
   ]
  },
  {
   "cell_type": "code",
   "execution_count": null,
   "metadata": {},
   "outputs": [],
   "source": [
    "\"\"\" 10. Why does this expression cause an error? How can you fix it? \n",
    "'I have eaten' + 99 + 'burritos.'  \"\"\"\n",
    "\n",
    "# Answer\n",
    "\n",
    "# the expression 'I have eaten' + 99 + 'burritos.' contains two str data type and one int data type\n",
    "# and the addition of it or combining of the same does not output a single data tupe and thus causes a TypeError.\n"
   ]
  }
 ],
 "metadata": {
  "kernelspec": {
   "display_name": "Python 3.10.5 64-bit",
   "language": "python",
   "name": "python3"
  },
  "language_info": {
   "codemirror_mode": {
    "name": "ipython",
    "version": 3
   },
   "file_extension": ".py",
   "mimetype": "text/x-python",
   "name": "python",
   "nbconvert_exporter": "python",
   "pygments_lexer": "ipython3",
   "version": "3.10.5"
  },
  "orig_nbformat": 4,
  "vscode": {
   "interpreter": {
    "hash": "949777d72b0d2535278d3dc13498b2535136f6dfe0678499012e853ee9abcab1"
   }
  }
 },
 "nbformat": 4,
 "nbformat_minor": 2
}

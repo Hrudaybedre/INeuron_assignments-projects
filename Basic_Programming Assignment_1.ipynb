{
 "cells": [
  {
   "cell_type": "code",
   "execution_count": 1,
   "metadata": {},
   "outputs": [
    {
     "name": "stdout",
     "output_type": "stream",
     "text": [
      "Hello Python\n"
     ]
    }
   ],
   "source": [
    "\"\"\"1. Write a Python program to print \"Hello Python\"?\"\"\"\n",
    "\n",
    "# Solution\n",
    "\n",
    "print(\"Hello Python\")"
   ]
  },
  {
   "cell_type": "code",
   "execution_count": 3,
   "metadata": {},
   "outputs": [
    {
     "name": "stdout",
     "output_type": "stream",
     "text": [
      "Sum of entered numbers is  7\n",
      "Division of entered numbers is  2.5\n"
     ]
    }
   ],
   "source": [
    "\"\"\"2. Write a Python program to do arithmetical operations addition and division.?\"\"\"\n",
    "\n",
    "# Solution\n",
    "\n",
    "a = int(input(\"Enter the first number \"))   # taking input in int data type\n",
    "b = int(input(\"Enter the second number \"))  # taking input in int data type\n",
    "\n",
    "# Addition\n",
    "\n",
    "print(\"Sum of entered numbers is \",a + b)\n",
    "\n",
    "# Addition\n",
    "\n",
    "print(\"Division of entered numbers is \",a / b)"
   ]
  },
  {
   "cell_type": "code",
   "execution_count": 5,
   "metadata": {},
   "outputs": [
    {
     "name": "stdout",
     "output_type": "stream",
     "text": [
      "Area of the triangle is  1.0\n"
     ]
    }
   ],
   "source": [
    "\"\"\"3. Write a Python program to find the area of a triangle?\"\"\"\n",
    "\n",
    "# Solution\n",
    "\n",
    "# area of a triangle can be found by the formula area = vertical height × base / 2 irrespective of the type of triangle\n",
    "\n",
    "h = int(input(\"Enter the value of the height of the triangle \"))   # taking input in int data type\n",
    "b = int(input(\"Enter the value of the base of the triangle \"))   # taking input in int data type\n",
    "\n",
    "print(\"Area of the triangle is \",(h*b)/2)"
   ]
  },
  {
   "cell_type": "code",
   "execution_count": 6,
   "metadata": {},
   "outputs": [
    {
     "name": "stdout",
     "output_type": "stream",
     "text": [
      "The Value of a after swap  1\n",
      "The Value of a after swap  4\n"
     ]
    }
   ],
   "source": [
    "\"\"\"4. Write a Python program to swap two variables?\"\"\"\n",
    "\n",
    "# Solution\n",
    "\n",
    "a = int(input(\"Enter the value of a \"))   # taking input in int data type\n",
    "b = int(input(\"Enter the value of b \"))  # taking input in int data type\n",
    "\n",
    "# Swaping the variables using a temperay storage variable x\n",
    "\n",
    "x = a\n",
    "a = b\n",
    "b = x\n",
    "\n",
    "print(\"The Value of a after swap \",a)\n",
    "print(\"The Value of a after swap \",b)"
   ]
  },
  {
   "cell_type": "code",
   "execution_count": 19,
   "metadata": {},
   "outputs": [
    {
     "name": "stdout",
     "output_type": "stream",
     "text": [
      "8\n"
     ]
    }
   ],
   "source": [
    "\"\"\"5. Write a Python program to generate a random number?\"\"\"\n",
    "\n",
    "# Solution\n",
    "\n",
    "import random #importing a module random to generate random values\n",
    "\n",
    "print(int(random.random()*10)) \n",
    "\n",
    "# the random.random() function generats float value between 0 to 1 and thus multiplying it with 10 to give us a vale from 0 to 10 \n",
    "# also be adding a int data type function to round it of th a single digit.\n"
   ]
  }
 ],
 "metadata": {
  "kernelspec": {
   "display_name": "Python 3.10.4 64-bit",
   "language": "python",
   "name": "python3"
  },
  "language_info": {
   "codemirror_mode": {
    "name": "ipython",
    "version": 3
   },
   "file_extension": ".py",
   "mimetype": "text/x-python",
   "name": "python",
   "nbconvert_exporter": "python",
   "pygments_lexer": "ipython3",
   "version": "3.10.4"
  },
  "orig_nbformat": 4,
  "vscode": {
   "interpreter": {
    "hash": "839b68e483e55cfab3fdb3add79398a9c925882968aa78ec60a24f4ec2e0da45"
   }
  }
 },
 "nbformat": 4,
 "nbformat_minor": 2
}

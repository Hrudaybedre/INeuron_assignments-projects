{
 "cells": [
  {
   "cell_type": "code",
   "execution_count": 6,
   "metadata": {},
   "outputs": [
    {
     "name": "stdout",
     "output_type": "stream",
     "text": [
      "280\n"
     ]
    }
   ],
   "source": [
    "\"\"\"1. Write a Python Program to Find LCM?\"\"\"\n",
    "\n",
    "# Solution\n",
    "\n",
    "# define a function that returns their LCM\n",
    "def lcm(x, y):\n",
    "  # choose the greater number\n",
    "  if x > y:\n",
    "    greater = x\n",
    "  else:\n",
    "    greater = y\n",
    "\n",
    "  # while loop until the LCM is found\n",
    "  while(True):\n",
    "    if((greater % x == 0) and (greater % y == 0)):\n",
    "      lcm = greater\n",
    "      break\n",
    "    greater += 1\n",
    "\n",
    "  return lcm\n",
    "\n",
    "# test the function with some numbers\n",
    "num1 = int(input(\"enter the first number \" ))\n",
    "num2 = int(input(\"enter the seconf number \" ))\n",
    "\n",
    "# calculate the LCM\n",
    "print(lcm(num1, num2))"
   ]
  },
  {
   "cell_type": "code",
   "execution_count": 7,
   "metadata": {},
   "outputs": [
    {
     "name": "stdout",
     "output_type": "stream",
     "text": [
      "5\n"
     ]
    }
   ],
   "source": [
    "\"\"\"2. Write a Python Program to Find HCF?\"\"\"\n",
    "\n",
    "# Solution\n",
    "\n",
    "# define a function that returns their HCF\n",
    "def hcf(x, y):\n",
    "  # choose the smaller number\n",
    "  if x < y:\n",
    "    smaller = x\n",
    "  else:\n",
    "    smaller = y\n",
    "\n",
    "  # while loop until the HCF is found\n",
    "  while(True):\n",
    "    if((x % smaller == 0) and (y % smaller == 0)):\n",
    "      hcf = smaller\n",
    "      break\n",
    "    smaller -= 1\n",
    "\n",
    "  return hcf\n",
    "\n",
    "# input numbers\n",
    "num1 = int(input(\"enter the first number \"))\n",
    "num2 = int(input(\"enter the secound number \"))\n",
    "\n",
    "# calculate the HCF\n",
    "print(hcf(num1, num2))"
   ]
  },
  {
   "cell_type": "code",
   "execution_count": 9,
   "metadata": {},
   "outputs": [
    {
     "name": "stdout",
     "output_type": "stream",
     "text": [
      "The converson of the decimal value 1 in binary 0b1, octal 0o1 & hexadecimal 0x1\n",
      "None\n"
     ]
    }
   ],
   "source": [
    "\"\"\"3. Write a Python Program to Convert Decimal to Binary, Octal and Hexadecimal?\"\"\"\n",
    "\n",
    "# Solution\n",
    "\n",
    "# define a function that takes in a decimal number and returns the binary, octal, and hexadecimal representation of the number\n",
    "def convert(decimal):\n",
    "  # convert the decimal number to binary, octal, and hexadecimal\n",
    "  binary = bin(decimal)\n",
    "  octal = oct(decimal)\n",
    "  hexadecimal = hex(decimal)\n",
    "\n",
    "  # return the converted numbers\n",
    "  return print (f\"The converson of the decimal value {decimal} in binary {binary}, octal {octal} & hexadecimal {hexadecimal}\")\n",
    "\n",
    "# test the function with some numbers\n",
    "decimal = int(input(\"Enter the decimal value to convert it in binary, octal, hexadecimal \"))\n",
    "\n",
    "# convert the decimal numbers to binary, octal, and hexadecimal\n",
    "print(convert(decimal))\n"
   ]
  },
  {
   "cell_type": "code",
   "execution_count": 13,
   "metadata": {},
   "outputs": [
    {
     "name": "stdout",
     "output_type": "stream",
     "text": [
      "97\n"
     ]
    }
   ],
   "source": [
    "\"\"\"4. Write a Python Program To Find ASCII value of a character?\"\"\"\n",
    "\n",
    "# Solution\n",
    "\n",
    "\n",
    "# taking the input in string\n",
    "char = str(input(\"Enter a character to display its ASCII value \"))\n",
    "\n",
    "# Get the ASCII value of the character\n",
    "ascii_value = ord(char)\n",
    "\n",
    "# Print the ASCII value\n",
    "print(ascii_value)"
   ]
  },
  {
   "cell_type": "code",
   "execution_count": 19,
   "metadata": {},
   "outputs": [
    {
     "name": "stdout",
     "output_type": "stream",
     "text": [
      "1.0\n"
     ]
    }
   ],
   "source": [
    "\"\"\"5. Write a Python Program to Make a Simple Calculator with 4 basic mathematical operations?\"\"\"\n",
    "\n",
    "# Solution\n",
    "\n",
    "# Define a function that takes in two numbers and an operator and returns the result of the operation applied to the numbers\n",
    "def simple_calculator(num1, num2, operator):\n",
    "    \n",
    "  # Check the operator and apply the appropriate operation\n",
    "  if operator == \"+\": # for addition\n",
    "    return num1 + num2\n",
    "  elif operator == \"-\": # for subtraction\n",
    "    return num1 - num2 \n",
    "  elif operator == \"*\": # for multiplication\n",
    "    return num1 * num2\n",
    "  elif operator == \"/\": # for division\n",
    "    return num1 / num2\n",
    "  else:\n",
    "    return \"Invalid operator\"\n",
    "\n",
    "#Take input \n",
    "x = int(input(\"input first number \"))\n",
    "y = int(input(\"input second number \"))\n",
    "op = str(input(\"enter the operation to be performed - Addition '+' / Subtraction '-' / Multiplication  '*' / Division '/' \"))\n",
    "\n",
    "# printing the ouput\n",
    "print(simple_calculator(x, y, op))"
   ]
  }
 ],
 "metadata": {
  "kernelspec": {
   "display_name": "Python 3.10.4 64-bit",
   "language": "python",
   "name": "python3"
  },
  "language_info": {
   "codemirror_mode": {
    "name": "ipython",
    "version": 3
   },
   "file_extension": ".py",
   "mimetype": "text/x-python",
   "name": "python",
   "nbconvert_exporter": "python",
   "pygments_lexer": "ipython3",
   "version": "3.10.4"
  },
  "orig_nbformat": 4,
  "vscode": {
   "interpreter": {
    "hash": "839b68e483e55cfab3fdb3add79398a9c925882968aa78ec60a24f4ec2e0da45"
   }
  }
 },
 "nbformat": 4,
 "nbformat_minor": 2
}

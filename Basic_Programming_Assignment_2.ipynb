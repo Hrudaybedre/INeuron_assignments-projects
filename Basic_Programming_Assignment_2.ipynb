{
 "cells": [
  {
   "cell_type": "code",
   "execution_count": 3,
   "metadata": {},
   "outputs": [
    {
     "name": "stdout",
     "output_type": "stream",
     "text": [
      "The distance in Kilometers 15.0Km and the conversion to Miles is 9.322560596643878mile\n"
     ]
    }
   ],
   "source": [
    "\"\"\"1. Write a Python program to convert kilometers to miles?\"\"\"\n",
    "\n",
    "# Solution\n",
    "\n",
    "Km = float(input(\"Distance in Kilometers \")) # taking km vale as input form user\n",
    "\n",
    "mil = Km / 1.609 # Hard coding the conversion factor (kilometer / 1.609) = miles in the programm to convert kilometers to miles\n",
    "\n",
    "print(f\"The distance in Kilometers {Km}Km and the conversion to Miles is {mil}mile\")"
   ]
  },
  {
   "cell_type": "code",
   "execution_count": 1,
   "metadata": {},
   "outputs": [
    {
     "name": "stdout",
     "output_type": "stream",
     "text": [
      "The temperature 89.6Fahrenheit\n"
     ]
    }
   ],
   "source": [
    "\"\"\"2. Write a Python program to convert Celsius to Fahrenheit?\"\"\"\n",
    "\n",
    "# Solution\n",
    "\n",
    "c = float(input(\"Enter temperature in Celcius \")) # taking input in Celcius.\n",
    "\n",
    "f = c * (9/5) + 32  #Celsius to Fahrenheit is given by: °F = °C × (9/5) + 32.\n",
    "\n",
    "print(f\"The temperature {f}Fahrenheit\")"
   ]
  },
  {
   "cell_type": "code",
   "execution_count": 1,
   "metadata": {},
   "outputs": [
    {
     "name": "stdout",
     "output_type": "stream",
     "text": [
      "                                  1997\n",
      "\n",
      "      January                   February                   March\n",
      "Mo Tu We Th Fr Sa Su      Mo Tu We Th Fr Sa Su      Mo Tu We Th Fr Sa Su\n",
      "       1  2  3  4  5                      1  2                      1  2\n",
      " 6  7  8  9 10 11 12       3  4  5  6  7  8  9       3  4  5  6  7  8  9\n",
      "13 14 15 16 17 18 19      10 11 12 13 14 15 16      10 11 12 13 14 15 16\n",
      "20 21 22 23 24 25 26      17 18 19 20 21 22 23      17 18 19 20 21 22 23\n",
      "27 28 29 30 31            24 25 26 27 28            24 25 26 27 28 29 30\n",
      "                                                    31\n",
      "\n",
      "       April                      May                       June\n",
      "Mo Tu We Th Fr Sa Su      Mo Tu We Th Fr Sa Su      Mo Tu We Th Fr Sa Su\n",
      "    1  2  3  4  5  6                1  2  3  4                         1\n",
      " 7  8  9 10 11 12 13       5  6  7  8  9 10 11       2  3  4  5  6  7  8\n",
      "14 15 16 17 18 19 20      12 13 14 15 16 17 18       9 10 11 12 13 14 15\n",
      "21 22 23 24 25 26 27      19 20 21 22 23 24 25      16 17 18 19 20 21 22\n",
      "28 29 30                  26 27 28 29 30 31         23 24 25 26 27 28 29\n",
      "                                                    30\n",
      "\n",
      "        July                     August                  September\n",
      "Mo Tu We Th Fr Sa Su      Mo Tu We Th Fr Sa Su      Mo Tu We Th Fr Sa Su\n",
      "    1  2  3  4  5  6                   1  2  3       1  2  3  4  5  6  7\n",
      " 7  8  9 10 11 12 13       4  5  6  7  8  9 10       8  9 10 11 12 13 14\n",
      "14 15 16 17 18 19 20      11 12 13 14 15 16 17      15 16 17 18 19 20 21\n",
      "21 22 23 24 25 26 27      18 19 20 21 22 23 24      22 23 24 25 26 27 28\n",
      "28 29 30 31               25 26 27 28 29 30 31      29 30\n",
      "\n",
      "      October                   November                  December\n",
      "Mo Tu We Th Fr Sa Su      Mo Tu We Th Fr Sa Su      Mo Tu We Th Fr Sa Su\n",
      "       1  2  3  4  5                      1  2       1  2  3  4  5  6  7\n",
      " 6  7  8  9 10 11 12       3  4  5  6  7  8  9       8  9 10 11 12 13 14\n",
      "13 14 15 16 17 18 19      10 11 12 13 14 15 16      15 16 17 18 19 20 21\n",
      "20 21 22 23 24 25 26      17 18 19 20 21 22 23      22 23 24 25 26 27 28\n",
      "27 28 29 30 31            24 25 26 27 28 29 30      29 30 31\n",
      "\n"
     ]
    }
   ],
   "source": [
    "\"\"\"3. Write a Python program to display calendar?\"\"\"\n",
    "\n",
    "# Solution\n",
    " \n",
    "import calendar\n",
    " \n",
    "yy = int(input(\"Enter the year to display the Calender \")) # Taking the input the year\n",
    " \n",
    "print(calendar.calendar(yy)) # display the calendar"
   ]
  },
  {
   "cell_type": "code",
   "execution_count": 23,
   "metadata": {},
   "outputs": [
    {
     "name": "stdout",
     "output_type": "stream",
     "text": [
      "The input quadratic equation is 1x²+-12x+-7=0\n",
      " real and different roots \n",
      "12.557438524302\n",
      "-0.5574385243020004\n"
     ]
    }
   ],
   "source": [
    "\"\"\"4. Write a Python program to solve quadratic equation?\"\"\"\n",
    "\n",
    "#Solution\n",
    "\n",
    "# quadratic equations are of the form ax^2 + bx + c = d , were a is not equal to 0\n",
    "# formula fo rsolving quadratic equation is given as x = (-b ± root(b^2 + 4ac)) / 2a\n",
    "\n",
    "# conditions for nature of roots:-\n",
    "# b^2 < 4ac , the roots are complex.\n",
    "# b^2 = 4ac , the roots are real and are equal.\n",
    "# b^2 > 4ac , the roots are real and are not equal.\n",
    "\n",
    "import math # importing math o perform square root function.\n",
    "\n",
    "# taking input for the quadratic equation.\n",
    "\n",
    "a = int(input(\"For the quadratic equation ax²+bx+c=0 input the value of a = \"))\n",
    "b = int(input(\"For the quadratic equation ax²+bx+c=0 input the value of b = \"))\n",
    "c = int(input(\"For the quadratic equation ax²+bx+c=0 input the value of c = \"))\n",
    "\n",
    "# checking for correctness of quadratic equation\n",
    "if a == 0:\n",
    "     print(\"The entered quadratic equation is invalid as value of a is equal to 0\")\n",
    "else:\n",
    "# printing the equation\n",
    "    print(f\"The input quadratic equation is {a}x²+{b}x+{c}=0\")\n",
    "\n",
    "#Solving for the roots of the quadratic equation\n",
    "\n",
    "fac= b*b - 4*a*c\n",
    "roots = math.sqrt(abs(fac)) \n",
    "      \n",
    "# checking conditions\n",
    "if fac > 0: \n",
    "    print(\" real and different roots \") \n",
    "    print((-b + roots)/(2 * a)) \n",
    "    print((-b - roots)/(2 * a)) \n",
    "\n",
    "elif fac == 0: \n",
    "    print(\" real and same roots\") \n",
    "    print(-b / (2 * a)) \n",
    "    \n",
    "# when fac is less than 0\n",
    "else:\n",
    "    print(\"Complex Roots\") \n",
    "    print(- b / (2 * a), \" + i\", roots) \n",
    "    print(- b / (2 * a), \" - i\", roots)\n"
   ]
  },
  {
   "cell_type": "code",
   "execution_count": 5,
   "metadata": {},
   "outputs": [
    {
     "name": "stdout",
     "output_type": "stream",
     "text": [
      "Before swapping, the variables are  5 10\n",
      "After swapping, the variables are  10 5\n"
     ]
    }
   ],
   "source": [
    "\"\"\"5. Write a Python program to swap two variables without temp variable?\"\"\"\n",
    "\n",
    "#Solution\n",
    "\n",
    "x = int(input(\"Input the first number \"))\n",
    "y = int(input(\"Input the second number \"))\n",
    "\n",
    "print (\"Before swapping, the variables are \", x , y )\n",
    "\n",
    "x, y = y, x # using assignment function in one line of code we can swap the numbers.\n",
    "\n",
    "print (\"After swapping, the variables are \", x , y )\n"
   ]
  }
 ],
 "metadata": {
  "kernelspec": {
   "display_name": "Python 3.10.4 64-bit",
   "language": "python",
   "name": "python3"
  },
  "language_info": {
   "codemirror_mode": {
    "name": "ipython",
    "version": 3
   },
   "file_extension": ".py",
   "mimetype": "text/x-python",
   "name": "python",
   "nbconvert_exporter": "python",
   "pygments_lexer": "ipython3",
   "version": "3.10.4"
  },
  "orig_nbformat": 4,
  "vscode": {
   "interpreter": {
    "hash": "839b68e483e55cfab3fdb3add79398a9c925882968aa78ec60a24f4ec2e0da45"
   }
  }
 },
 "nbformat": 4,
 "nbformat_minor": 2
}
